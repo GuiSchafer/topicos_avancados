{
 "cells": [
  {
   "cell_type": "code",
   "execution_count": 34,
   "metadata": {},
   "outputs": [],
   "source": [
    "import pandas as pd\n",
    "import numpy as np \n",
    "data = pd.read_feather('tavbase/GS.feather')\n"
   ]
  },
  {
   "cell_type": "code",
   "execution_count": 37,
   "metadata": {},
   "outputs": [],
   "source": [
    "def zscore(df, grupo, var, score):\n",
    "    media = df[var].mean()\n",
    "    dpadr = df[var].std()\n",
    "    gr = df.groupby(grupo)[var]\n",
    "    dc = gr.describe()\n",
    "    dc = dc.reset_index()\n",
    "    dc[score] = dc['mean'].apply(lambda x :(x - media) / dpadr)\n",
    "    dcz = dc[[grupo, score]]\n",
    "    df = df.merge(dcz, on=grupo, how='left')\n",
    "    return df"
   ]
  },
  {
   "cell_type": "code",
   "execution_count": 38,
   "metadata": {},
   "outputs": [],
   "source": [
    "##classificação zscore\n",
    "dimensao = 'Customer ID'\n",
    "medidas = ['Sales', 'Quantity', 'Profit', 'Shipping Cost']\n",
    "grupo = data.groupby(dimensao)[medidas].mean().reset_index()\n",
    "for medida in medidas:\n",
    "    grupo = zscore(grupo, dimensao, medida, 'z'+medida)\n",
    "zmedidas = ['z'+med for med in medidas] \n",
    "zgrupo = grupo[zmedidas]\n",
    "grupo['score'] = zgrupo.sum(axis=1)\n",
    "media_score = grupo['score'].mean()\n",
    "dpadr_score = grupo['score'].std()\n",
    "grupo['classe'] = grupo['score'].apply(lambda x : int((x - media_score) / dpadr_score) + 3)\n",
    "grupo['classe'] = grupo['classe'].apply(lambda x : 0 if x < 0 else x)\n",
    "grupo['classe'] = grupo['classe'].apply(lambda x : 6 if x > 6 else x)\n",
    "grupo['rank'] = grupo['score'].rank(ascending=False)\n",
    "grupo['lucro'] = grupo['Profit'].apply(lambda x : 0 if x < 0 else 1)\n",
    "grupo\n",
    "\n",
    "grupo.to_feather('classificaoz_consumidor.feather')"
   ]
  },
  {
   "cell_type": "code",
   "execution_count": null,
   "metadata": {},
   "outputs": [],
   "source": []
  }
 ],
 "metadata": {
  "kernelspec": {
   "display_name": "Python 3.8.13 64-bit ('shims')",
   "language": "python",
   "name": "python3"
  },
  "language_info": {
   "codemirror_mode": {
    "name": "ipython",
    "version": 3
   },
   "file_extension": ".py",
   "mimetype": "text/x-python",
   "name": "python",
   "nbconvert_exporter": "python",
   "pygments_lexer": "ipython3",
   "version": "3.8.13"
  },
  "orig_nbformat": 4,
  "vscode": {
   "interpreter": {
    "hash": "9ac03a0a6051494cc606d484d27d20fce22fb7b4d169f583271e11d5ba46a56e"
   }
  }
 },
 "nbformat": 4,
 "nbformat_minor": 2
}
