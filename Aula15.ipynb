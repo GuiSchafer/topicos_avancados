{
 "cells": [
  {
   "cell_type": "code",
   "execution_count": 2,
   "metadata": {},
   "outputs": [],
   "source": [
    "import pandas as pd\n",
    "import numpy as np\n",
    "from sklearn.preprocessing import StandardScaler"
   ]
  },
  {
   "cell_type": "code",
   "execution_count": 3,
   "metadata": {},
   "outputs": [],
   "source": [
    "data =pd.read_feather('./tavbase/GS.feather')"
   ]
  },
  {
   "cell_type": "code",
   "execution_count": 7,
   "metadata": {},
   "outputs": [],
   "source": [
    "#meia boca\n",
    "def rfm_variables(df):\n",
    "    f_sales = len(df)\n",
    "    f_profit = len(df[df['Profit'] > 0])\n",
    "    m_sales = round(df['Sales'].sum(),2)\n",
    "    m_profit = round(df['Profit'].sum(),2)\n",
    "    m_qty = df['Quantity'].sum()\n",
    "    m_deliver = round(df['Shipping Cost'].sum(),2)\n",
    "    df_sort = df[['Order Date']].sort_values(by='Order Date').drop_duplicates()\n",
    "    df_sort['diff'] = df_sort['Order Date'] - df_sort['Order Date'].shift(1)\n",
    "    df_sort['diff_int'] = df_sort['diff'].dt.days\n",
    "    r_days = round(df_sort['diff_int'].mean(),2)\n",
    "    return f_sales, f_profit, m_sales, m_profit, m_qty, m_deliver, r_days\n",
    "\n",
    "def fit_data(data, variable):\n",
    "    rfm = pd.DataFrame()\n",
    "    variaveis = data[variable].unique()\n",
    "    for variavel in variaveis:\n",
    "        dados = data[data[variable] == variavel]\n",
    "        f_vendas, f_lucro, m_vendas, m_lucro, m_qtde, m_entrega, r_dias = rfm_variables(dados)\n",
    "        new_row = {\n",
    "            'referencia': variavel,\n",
    "            'm_vendas': m_vendas,\n",
    "            'm_lucro': m_lucro,\n",
    "            'm_qtde': m_qtde,\n",
    "            'm_entrega': m_entrega,\n",
    "            'r_dias': r_dias,\n",
    "            'f_vendas': f_vendas,\n",
    "            'f_lucro': f_lucro\n",
    "        }\n",
    "        rfm = rfm.append(\n",
    "            new_row,\n",
    "            ignore_index = True\n",
    "        )\n",
    "    return rfm"
   ]
  },
  {
   "cell_type": "code",
   "execution_count": 8,
   "metadata": {},
   "outputs": [],
   "source": [
    "variaveis = [\n",
    "    'f_vendas', 'f_lucro', 'm_entrega', 'm_lucro', 'm_qtde', 'm_vendas', 'r_dias'\n",
    "]"
   ]
  },
  {
   "cell_type": "code",
   "execution_count": null,
   "metadata": {},
   "outputs": [],
   "source": []
  }
 ],
 "metadata": {
  "kernelspec": {
   "display_name": "Python 3",
   "language": "python",
   "name": "python3"
  },
  "language_info": {
   "codemirror_mode": {
    "name": "ipython",
    "version": 3
   },
   "file_extension": ".py",
   "mimetype": "text/x-python",
   "name": "python",
   "nbconvert_exporter": "python",
   "pygments_lexer": "ipython3",
   "version": "3.8.13"
  },
  "orig_nbformat": 4,
  "vscode": {
   "interpreter": {
    "hash": "110cc1dee26208153f2972f08a2ad52b6a56238dc66d48e87fb757ef2996db56"
   }
  }
 },
 "nbformat": 4,
 "nbformat_minor": 2
}
